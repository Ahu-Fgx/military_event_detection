{
 "cells": [
  {
   "cell_type": "code",
   "execution_count": 7,
   "id": "314a02f8",
   "metadata": {},
   "outputs": [],
   "source": [
    "import json\n",
    "\n",
    "labels = {\n",
    "    'O': 0,\n",
    "    'Accident': 0,\n",
    "    'Deploy': 0,\n",
    "    'Exhibit': 0,\n",
    "    'Experiment': 0,\n",
    "    'Indemnity': 0,\n",
    "    'Manoeuvre': 0,\n",
    "    'Support': 0\n",
    "}\n",
    "data = json.load(open(\"./train_7000_auto.json\", \"r\"))\n",
    "for data_item in data:\n",
    "    total_length = len(data_item[\"tokens\"])\n",
    "\n",
    "    if len(data_item[\"event_mention\"]) != 0:\n",
    "        offset = data_item[\"event_mention\"][\"trigger\"][\"offset\"]\n",
    "        labels[data_item[\"event_mention\"][\"event_type\"]] += offset[1] - offset[0]\n",
    "        labels[\"O\"] += total_length - offset[1] + offset[0]\n",
    "    else:\n",
    "        labels[\"O\"] += total_length"
   ]
  },
  {
   "cell_type": "code",
   "execution_count": 8,
   "id": "a92c3e99",
   "metadata": {},
   "outputs": [
    {
     "data": {
      "text/plain": [
       "{'O': 413040,\n",
       " 'Accident': 199,\n",
       " 'Deploy': 156,\n",
       " 'Exhibit': 527,\n",
       " 'Experiment': 439,\n",
       " 'Indemnity': 30,\n",
       " 'Manoeuvre': 2369,\n",
       " 'Support': 84}"
      ]
     },
     "execution_count": 8,
     "metadata": {},
     "output_type": "execute_result"
    }
   ],
   "source": [
    "labels"
   ]
  },
  {
   "cell_type": "code",
   "execution_count": null,
   "id": "7f44d14b",
   "metadata": {},
   "outputs": [],
   "source": [
    "1 190 220 70 90 1000 15 400"
   ]
  }
 ],
 "metadata": {
  "kernelspec": {
   "display_name": "Python 3",
   "language": "python",
   "name": "python3"
  },
  "language_info": {
   "codemirror_mode": {
    "name": "ipython",
    "version": 3
   },
   "file_extension": ".py",
   "mimetype": "text/x-python",
   "name": "python",
   "nbconvert_exporter": "python",
   "pygments_lexer": "ipython3",
   "version": "3.6.8"
  }
 },
 "nbformat": 4,
 "nbformat_minor": 5
}
